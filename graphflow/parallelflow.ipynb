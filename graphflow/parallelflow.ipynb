{
 "cells": [
  {
   "cell_type": "code",
   "execution_count": 1,
   "id": "ec949dad",
   "metadata": {},
   "outputs": [
    {
     "name": "stdout",
     "output_type": "stream",
     "text": [
      "---------- TextMessage (user) ----------\n",
      "Write a short paragraph about climate change.\n",
      "---------- TextMessage (writer) ----------\n",
      "Climate change refers to significant alterations in global temperatures and weather patterns over time, primarily driven by human activities such as burning fossil fuels, deforestation, and industrial processes. These actions release greenhouse gases like carbon dioxide and methane into the atmosphere, leading to an enhanced greenhouse effect that warms the planet. As a result, we are witnessing more frequent and severe weather events, rising sea levels, and disruptions to ecosystems and biodiversity. Urgent action is needed to mitigate its impacts through transitioning to renewable energy sources, promoting sustainable practices, and increasing awareness and adaptation efforts globally.\n",
      "---------- TextMessage (editor1) ----------\n",
      "Climate change refers to significant alterations in global temperatures and weather patterns over time, primarily driven by human activities such as burning fossil fuels, deforestation, and industrial processes. These actions release greenhouse gases like carbon dioxide and methane into the atmosphere, leading to an enhanced greenhouse effect that warms the planet. As a result, we are witnessing more frequent and severe weather events, rising sea levels, and disruptions to ecosystems and biodiversity. Urgent action is needed to mitigate its impacts by transitioning to renewable energy sources, promoting sustainable practices, and increasing awareness and adaptation efforts globally.\n",
      "---------- TextMessage (editor2) ----------\n",
      "Climate change encompasses significant shifts in global temperatures and weather patterns over time, primarily fueled by human activities such as burning fossil fuels, deforestation, and industrial practices. These actions release greenhouse gases like carbon dioxide and methane into the atmosphere, intensifying the greenhouse effect and warming our planet. Consequently, we are experiencing an increase in the frequency and severity of weather events, rising sea levels, and disruptions to ecosystems and biodiversity. Urgent action is imperative to mitigate these impacts, necessitating a transition to renewable energy sources, the promotion of sustainable practices, and a global commitment to increasing awareness and adaptation efforts.\n",
      "---------- TextMessage (final_reviewer) ----------\n",
      "Climate change encompasses significant shifts in global temperatures and weather patterns over time, primarily fueled by human activities such as burning fossil fuels, deforestation, and industrial practices. These actions release greenhouse gases like carbon dioxide and methane into the atmosphere, intensifying the greenhouse effect and warming our planet. Consequently, we are experiencing an increase in the frequency and severity of weather events, rising sea levels, and disruptions to ecosystems and biodiversity. Urgent action is imperative to mitigate these impacts, necessitating a transition to renewable energy sources, the promotion of sustainable practices, and a global commitment to raising awareness and enhancing adaptation efforts.\n",
      "---------- StopMessage (DiGraphStopAgent) ----------\n",
      "Digraph execution is complete\n"
     ]
    },
    {
     "data": {
      "text/plain": [
       "TaskResult(messages=[TextMessage(id='320d4a34-167d-46d4-8424-1ed27defb866', source='user', models_usage=None, metadata={}, created_at=datetime.datetime(2025, 7, 19, 4, 49, 59, 217863, tzinfo=datetime.timezone.utc), content='Write a short paragraph about climate change.', type='TextMessage'), TextMessage(id='8de7b0a2-5191-4d77-ab0a-3548396882d6', source='writer', models_usage=RequestUsage(prompt_tokens=28, completion_tokens=112), metadata={}, created_at=datetime.datetime(2025, 7, 19, 4, 50, 11, 7764, tzinfo=datetime.timezone.utc), content='Climate change refers to significant alterations in global temperatures and weather patterns over time, primarily driven by human activities such as burning fossil fuels, deforestation, and industrial processes. These actions release greenhouse gases like carbon dioxide and methane into the atmosphere, leading to an enhanced greenhouse effect that warms the planet. As a result, we are witnessing more frequent and severe weather events, rising sea levels, and disruptions to ecosystems and biodiversity. Urgent action is needed to mitigate its impacts through transitioning to renewable energy sources, promoting sustainable practices, and increasing awareness and adaptation efforts globally.', type='TextMessage'), TextMessage(id='a37e3438-e0c1-4907-a526-266352ec59c4', source='editor1', models_usage=RequestUsage(prompt_tokens=143, completion_tokens=112), metadata={}, created_at=datetime.datetime(2025, 7, 19, 4, 50, 12, 262502, tzinfo=datetime.timezone.utc), content='Climate change refers to significant alterations in global temperatures and weather patterns over time, primarily driven by human activities such as burning fossil fuels, deforestation, and industrial processes. These actions release greenhouse gases like carbon dioxide and methane into the atmosphere, leading to an enhanced greenhouse effect that warms the planet. As a result, we are witnessing more frequent and severe weather events, rising sea levels, and disruptions to ecosystems and biodiversity. Urgent action is needed to mitigate its impacts by transitioning to renewable energy sources, promoting sustainable practices, and increasing awareness and adaptation efforts globally.', type='TextMessage'), TextMessage(id='c9692277-7690-461e-a7ac-2ca69057e009', source='editor2', models_usage=RequestUsage(prompt_tokens=143, completion_tokens=120), metadata={}, created_at=datetime.datetime(2025, 7, 19, 4, 50, 12, 880014, tzinfo=datetime.timezone.utc), content='Climate change encompasses significant shifts in global temperatures and weather patterns over time, primarily fueled by human activities such as burning fossil fuels, deforestation, and industrial practices. These actions release greenhouse gases like carbon dioxide and methane into the atmosphere, intensifying the greenhouse effect and warming our planet. Consequently, we are experiencing an increase in the frequency and severity of weather events, rising sea levels, and disruptions to ecosystems and biodiversity. Urgent action is imperative to mitigate these impacts, necessitating a transition to renewable energy sources, the promotion of sustainable practices, and a global commitment to increasing awareness and adaptation efforts.', type='TextMessage'), TextMessage(id='0f9100fc-3501-44b3-8da0-151f0022fa4e', source='final_reviewer', models_usage=RequestUsage(prompt_tokens=394, completion_tokens=121), metadata={}, created_at=datetime.datetime(2025, 7, 19, 4, 50, 14, 256721, tzinfo=datetime.timezone.utc), content='Climate change encompasses significant shifts in global temperatures and weather patterns over time, primarily fueled by human activities such as burning fossil fuels, deforestation, and industrial practices. These actions release greenhouse gases like carbon dioxide and methane into the atmosphere, intensifying the greenhouse effect and warming our planet. Consequently, we are experiencing an increase in the frequency and severity of weather events, rising sea levels, and disruptions to ecosystems and biodiversity. Urgent action is imperative to mitigate these impacts, necessitating a transition to renewable energy sources, the promotion of sustainable practices, and a global commitment to raising awareness and enhancing adaptation efforts.', type='TextMessage'), StopMessage(id='764ccfeb-0d1a-4a32-a808-9bdf4da70e70', source='DiGraphStopAgent', models_usage=None, metadata={}, created_at=datetime.datetime(2025, 7, 19, 4, 50, 14, 259164, tzinfo=datetime.timezone.utc), content='Digraph execution is complete', type='StopMessage')], stop_reason='Stop message received')"
      ]
     },
     "execution_count": 1,
     "metadata": {},
     "output_type": "execute_result"
    }
   ],
   "source": [
    "from autogen_agentchat.agents import AssistantAgent\n",
    "from autogen_agentchat.teams import DiGraphBuilder, GraphFlow\n",
    "from autogen_agentchat.ui import Console\n",
    "from autogen_ext.models.openai import OpenAIChatCompletionClient\n",
    "from azure.identity import DefaultAzureCredential, get_bearer_token_provider\n",
    "from autogen_ext.models.openai import AzureOpenAIChatCompletionClient\n",
    "\n",
    "\n",
    "# Create the token provider\n",
    "token_provider = get_bearer_token_provider(\n",
    "    DefaultAzureCredential(),\n",
    "    \"https://cognitiveservices.azure.com/.default\",\n",
    ")\n",
    "\n",
    "client = AzureOpenAIChatCompletionClient(\n",
    "    azure_deployment=\"gpt-4o-mini\",\n",
    "    model=\"gpt-4o-mini\",\n",
    "    api_version=\"2024-08-01-preview\",\n",
    "    azure_endpoint=\"https://azopenai-langchain.openai.azure.com/\",\n",
    "    azure_ad_token_provider=token_provider,  # Optional if you choose key-based authentication.\n",
    "    # api_key=\"sk-...\", # For key-based authentication.\n",
    ")\n",
    "\n",
    "\n",
    "# Create the writer agent\n",
    "writer = AssistantAgent(\"writer\", model_client=client, system_message=\"Draft a short paragraph on climate change.\")\n",
    "\n",
    "# Create two editor agents\n",
    "editor1 = AssistantAgent(\"editor1\", model_client=client, system_message=\"Edit the paragraph for grammar.\")\n",
    "\n",
    "editor2 = AssistantAgent(\"editor2\", model_client=client, system_message=\"Edit the paragraph for style.\")\n",
    "\n",
    "# Create the final reviewer agent\n",
    "final_reviewer = AssistantAgent(\n",
    "    \"final_reviewer\",\n",
    "    model_client=client,\n",
    "    system_message=\"Consolidate the grammar and style edits into a final version.\",\n",
    ")\n",
    "\n",
    "# Build the workflow graph\n",
    "builder = DiGraphBuilder()\n",
    "builder.add_node(writer).add_node(editor1).add_node(editor2).add_node(final_reviewer)\n",
    "\n",
    "# Fan-out from writer to editor1 and editor2\n",
    "builder.add_edge(writer, editor1)\n",
    "builder.add_edge(writer, editor2)\n",
    "\n",
    "# Fan-in both editors into final reviewer\n",
    "builder.add_edge(editor1, final_reviewer)\n",
    "builder.add_edge(editor2, final_reviewer)\n",
    "\n",
    "# Build and validate the graph\n",
    "graph = builder.build()\n",
    "\n",
    "# Create the flow\n",
    "flow = GraphFlow(\n",
    "    participants=builder.get_participants(),\n",
    "    graph=graph,\n",
    ")\n",
    "\n",
    "# Run the workflow\n",
    "await Console(flow.run_stream(task=\"Write a short paragraph about climate change.\"))\n"
   ]
  }
 ],
 "metadata": {
  "kernelspec": {
   "display_name": ".venv",
   "language": "python",
   "name": "python3"
  },
  "language_info": {
   "codemirror_mode": {
    "name": "ipython",
    "version": 3
   },
   "file_extension": ".py",
   "mimetype": "text/x-python",
   "name": "python",
   "nbconvert_exporter": "python",
   "pygments_lexer": "ipython3",
   "version": "3.13.2"
  }
 },
 "nbformat": 4,
 "nbformat_minor": 5
}
