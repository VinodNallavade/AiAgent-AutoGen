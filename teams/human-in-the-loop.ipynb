{
 "cells": [
  {
   "cell_type": "code",
   "execution_count": 11,
   "id": "ff3c1d5e",
   "metadata": {},
   "outputs": [],
   "source": [
    "from autogen_ext.models.openai import AzureOpenAIChatCompletionClient\n",
    "from autogen_core.tools import FunctionTool\n",
    "from autogen_agentchat.agents import AssistantAgent,UserProxyAgent\n",
    "from azure.identity import DefaultAzureCredential, get_bearer_token_provider\n",
    "import asyncio\n",
    "from pydantic import BaseModel,Field\n",
    "from autogen_ext.tools.http import HttpTool\n",
    "from autogen_agentchat.teams import RoundRobinGroupChat\n",
    "from autogen_agentchat.messages import TextMessage\n",
    "from autogen_agentchat.conditions import TextMentionTermination\n",
    "from autogen_agentchat.base import TaskResult\n",
    "from autogen_agentchat.ui import Console\n",
    "\n",
    "\n",
    "\n",
    "# Create the token provider\n",
    "token_provider = get_bearer_token_provider(\n",
    "    DefaultAzureCredential(),\n",
    "    \"https://cognitiveservices.azure.com/.default\",\n",
    ")\n",
    "\n",
    "az_model_client = AzureOpenAIChatCompletionClient(\n",
    "    azure_deployment=\"gpt-4o-mini\",\n",
    "    model=\"gpt-4o-mini\",\n",
    "    api_version=\"2024-08-01-preview\",\n",
    "    azure_endpoint=\"https://azopenai-langchain.openai.azure.com/\",\n",
    "    azure_ad_token_provider=token_provider,  # Optional if you choose key-based authentication.\n",
    "    # api_key=\"sk-...\", # For key-based authentication.\n",
    ")"
   ]
  },
  {
   "cell_type": "code",
   "execution_count": null,
   "id": "8820861c",
   "metadata": {},
   "outputs": [],
   "source": [
    "agent= AssistantAgent( name = \"agent\", \n",
    "                      model_client=az_model_client, \n",
    "                      system_message=\"You are a helpful AI assistant.\",\n",
    "                      description=\"This is a test agent for Azure OpenAI.\"\n",
    "                      \n",
    "                      )\n",
    "\n",
    "\n",
    "\n",
    "human =  UserProxyAgent(name=\"human\",description=\"This is a human user.\",input_func= input(\"Enter your message: \"))\n",
    "\n",
    "\n",
    "termination = TextMentionTermination(text=\"STOP\",sources=[\"human\"])\n",
    "\n",
    "# Create a new team with the agents and termination condition.\n",
    "team_1 = RoundRobinGroupChat(participants=[agent, human],\n",
    "                           termination_condition=termination,max_turns=5)\n",
    "\n",
    "#await team.reset()\n",
    "\n",
    "async for message in  team_1.run_stream(task=\"Write a poem about the fall season in 2 lines.\"):\n",
    "    print(message.content)\n",
    "    print(message.source)\n",
    "    print(\"-----------------------------------------------------------\")"
   ]
  },
  {
   "cell_type": "code",
   "execution_count": 12,
   "id": "0cf21a12",
   "metadata": {},
   "outputs": [
    {
     "name": "stdout",
     "output_type": "stream",
     "text": [
      "---------- TextMessage (user) ----------\n",
      "Write a 4-line poem about the ocean.\n",
      "---------- TextMessage (assistant) ----------\n",
      "Waves dance beneath the endless sky,  \n",
      "Whispers of secrets, where currents lie.  \n",
      "In depths of blue, a world concealed,  \n",
      "Nature’s bounty, forever revealed.  \n",
      "TERMINATE\n",
      "---------- TextMessage (user_proxy) ----------\n",
      "Write 2 lines poem on colour pink\n",
      "---------- TextMessage (assistant) ----------\n",
      "Soft as dawn's first light, it blooms and glows,  \n",
      "A gentle touch of sweetness, where love bestows.  \n",
      "TERMINATE\n",
      "---------- TextMessage (user_proxy) ----------\n",
      "Approve\n",
      "---------- TextMessage (assistant) ----------\n",
      "TERMINATE\n",
      "---------- TextMessage (user_proxy) ----------\n",
      "APPROVE\n"
     ]
    },
    {
     "data": {
      "text/plain": [
       "TaskResult(messages=[TextMessage(id='dce513fd-eb06-477c-ab55-dc2a34809a9d', source='user', models_usage=None, metadata={}, created_at=datetime.datetime(2025, 7, 13, 3, 34, 4, 777767, tzinfo=datetime.timezone.utc), content='Write a 4-line poem about the ocean.', type='TextMessage'), TextMessage(id='060a0977-1e68-44e6-8b03-f257df0e226a', source='assistant', models_usage=RequestUsage(prompt_tokens=46, completion_tokens=41), metadata={}, created_at=datetime.datetime(2025, 7, 13, 3, 34, 16, 839395, tzinfo=datetime.timezone.utc), content='Waves dance beneath the endless sky,  \\nWhispers of secrets, where currents lie.  \\nIn depths of blue, a world concealed,  \\nNature’s bounty, forever revealed.  \\nTERMINATE', type='TextMessage'), UserInputRequestedEvent(id='bb9aa354-80a9-4bf2-a935-405cce0e87c1', source='user_proxy', models_usage=None, metadata={}, created_at=datetime.datetime(2025, 7, 13, 3, 34, 16, 842014, tzinfo=datetime.timezone.utc), request_id='d793e2c8-078d-49bb-ac99-313193c5f4c5', content='', type='UserInputRequestedEvent'), TextMessage(id='5c7113f9-e894-43bd-894b-9502bf845b0e', source='user_proxy', models_usage=None, metadata={}, created_at=datetime.datetime(2025, 7, 13, 3, 34, 44, 707044, tzinfo=datetime.timezone.utc), content='Write 2 lines poem on colour pink', type='TextMessage'), TextMessage(id='86819c90-445c-4150-b300-381ab23834c4', source='assistant', models_usage=RequestUsage(prompt_tokens=104, completion_tokens=30), metadata={}, created_at=datetime.datetime(2025, 7, 13, 3, 34, 53, 582041, tzinfo=datetime.timezone.utc), content=\"Soft as dawn's first light, it blooms and glows,  \\nA gentle touch of sweetness, where love bestows.  \\nTERMINATE\", type='TextMessage'), UserInputRequestedEvent(id='4d93365d-d98a-4ca7-8521-726f7b606221', source='user_proxy', models_usage=None, metadata={}, created_at=datetime.datetime(2025, 7, 13, 3, 34, 53, 584521, tzinfo=datetime.timezone.utc), request_id='8392759b-0201-46cf-9e6c-2f27817cb5f5', content='', type='UserInputRequestedEvent'), TextMessage(id='405d2ae9-0f81-418e-846c-5d4cc2b8f12a', source='user_proxy', models_usage=None, metadata={}, created_at=datetime.datetime(2025, 7, 13, 3, 35, 6, 78909, tzinfo=datetime.timezone.utc), content='Approve', type='TextMessage'), TextMessage(id='f49b4ce0-6574-4d6b-a41b-531580479657', source='assistant', models_usage=RequestUsage(prompt_tokens=144, completion_tokens=4), metadata={}, created_at=datetime.datetime(2025, 7, 13, 3, 35, 14, 877612, tzinfo=datetime.timezone.utc), content='TERMINATE', type='TextMessage'), UserInputRequestedEvent(id='f0e78b29-b86d-4b5e-9f1b-830b6cff4db5', source='user_proxy', models_usage=None, metadata={}, created_at=datetime.datetime(2025, 7, 13, 3, 35, 14, 880203, tzinfo=datetime.timezone.utc), request_id='2423d63f-523d-41cd-bbce-3345084bd0e7', content='', type='UserInputRequestedEvent'), TextMessage(id='355e0cd5-a875-42c6-aeaa-86f8bf0bdf4c', source='user_proxy', models_usage=None, metadata={}, created_at=datetime.datetime(2025, 7, 13, 3, 35, 20, 173984, tzinfo=datetime.timezone.utc), content='APPROVE', type='TextMessage')], stop_reason=\"Text 'APPROVE' mentioned\")"
      ]
     },
     "execution_count": 12,
     "metadata": {},
     "output_type": "execute_result"
    }
   ],
   "source": [
    "assistant = AssistantAgent(\"assistant\", model_client=az_model_client)\n",
    "user_proxy = UserProxyAgent(\"user_proxy\", input_func=input)  # Use input() to get user input from console.\n",
    "\n",
    "# Create the termination condition which will end the conversation when the user says \"APPROVE\".\n",
    "termination = TextMentionTermination(\"APPROVE\")\n",
    "\n",
    "# Create the team.\n",
    "team = RoundRobinGroupChat([assistant, user_proxy], termination_condition=termination)\n",
    "\n",
    "# Run the conversation and stream to the console.\n",
    "stream = team.run_stream(task=\"Write a 4-line poem about the ocean.\")\n",
    "# Use asyncio.run(...) when running in a script.\n",
    "await Console(stream)"
   ]
  }
 ],
 "metadata": {
  "kernelspec": {
   "display_name": ".venv",
   "language": "python",
   "name": "python3"
  },
  "language_info": {
   "codemirror_mode": {
    "name": "ipython",
    "version": 3
   },
   "file_extension": ".py",
   "mimetype": "text/x-python",
   "name": "python",
   "nbconvert_exporter": "python",
   "pygments_lexer": "ipython3",
   "version": "3.13.2"
  }
 },
 "nbformat": 4,
 "nbformat_minor": 5
}
