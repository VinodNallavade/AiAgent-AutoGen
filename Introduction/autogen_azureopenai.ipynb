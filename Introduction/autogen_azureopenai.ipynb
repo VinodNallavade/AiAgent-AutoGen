{
 "cells": [
  {
   "cell_type": "code",
   "execution_count": 1,
   "id": "6b3fa679",
   "metadata": {},
   "outputs": [
    {
     "name": "stdout",
     "output_type": "stream",
     "text": [
      "{\"question\":\"What is the capital of France?\",\"answer\":\"The capital of France is Paris.\"}\n"
     ]
    }
   ],
   "source": [
    "from autogen_ext.models.openai import AzureOpenAIChatCompletionClient\n",
    "from azure.identity import DefaultAzureCredential,get_bearer_token_provider\n",
    "from autogen_agentchat.agents import AssistantAgent,BaseChatAgent\n",
    "from autogen_core.models import UserMessage\n",
    "from pydantic import BaseModel\n",
    "from autogen_core.tools import FunctionTool\n",
    "from autogen_agentchat.ui import Console\n",
    "\n",
    "\n",
    "class model_output(BaseModel):\n",
    "    question: str\n",
    "    answer: str\n",
    "\n",
    "\n",
    "# Create the token provider\n",
    "token_provider = get_bearer_token_provider(\n",
    "    DefaultAzureCredential(),\n",
    "    \"https://cognitiveservices.azure.com/.default\",\n",
    ")\n",
    "\n",
    "az_model_client = AzureOpenAIChatCompletionClient(\n",
    "    azure_deployment=\"gpt-4o-mini\",\n",
    "    model=\"gpt-4o-mini\",\n",
    "    api_version=\"2024-08-01-preview\",\n",
    "    azure_endpoint=\"https://azopenai-langchain.openai.azure.com/\",\n",
    "    azure_ad_token_provider=token_provider\n",
    ")\n",
    "\n",
    "\n",
    "# return type for the below method is CreateResult\n",
    "# using default method to create a message\n",
    "result = await az_model_client.create([UserMessage(content=\"What is the capital of France?\", source=\"user\")],json_output= model_output)\n",
    "print(result.content)\n",
    "#await az_model_client.close() \n"
   ]
  },
  {
   "cell_type": "code",
   "execution_count": 3,
   "id": "65c0c264",
   "metadata": {},
   "outputs": [
    {
     "name": "stdout",
     "output_type": "stream",
     "text": [
      "<class 'autogen_agentchat.base._task.TaskResult'>\n",
      "What is the capital of France?\n",
      "The capital of France is Paris.\n"
     ]
    }
   ],
   "source": [
    "# mock tool\n",
    "async def web_search(query: str) -> str:\n",
    "    \"\"\"Find information on the web\"\"\"\n",
    "    return \"AutoGen is a programming framework for building multi-agent applications.\"\n",
    "\n",
    "\n",
    "web_search_function_tool = FunctionTool(web_search, description=\"Find information on the web\")\n",
    "\n",
    "\n",
    "def add_numbers(num1 : int, num2:int)-> int:\n",
    "    \"\"\" This tool will be used to add two numbers\n",
    "         input is num1 and num2 of integer type\n",
    "         output  is integer type\n",
    "    \"\"\"\n",
    "    return num1+num2\n",
    "\n",
    "\n",
    "tool= FunctionTool(add_numbers,description=\"A tool for adding number\")\n",
    "\n",
    "\n",
    "#Using AssitantAgent with Azure OpenAI Client\n",
    "\n",
    "agent= AssistantAgent(\n",
    "    name='Assistant', description='you are a great assistant',\n",
    "    model_client=az_model_client,\n",
    "    system_message='You are a really helpful assistant who help on the task given.',\n",
    "    tools=[web_search_function_tool]#,\n",
    "   # output_content_type=model_output   --> If this there then we are getting error with tool output\n",
    "   #, output_content_type=model_output  # This is used to specify the output type of the model, which is a pydantic model in this case.\n",
    "  # ,reflect_on_tool_use=False\n",
    ")\n",
    "\n",
    "\n",
    "output = await agent.run(\n",
    "    task=\"What is the capital of France?\")\n",
    "\n",
    "print(type(output))  # This will print the type of the output, which should be TaskResult\n",
    "print(output.messages[0].content)  # This will print the content of the message\n",
    "print(output.messages[-1].content)  # This will print the JSON representation of the model_output"
   ]
  },
  {
   "cell_type": "code",
   "execution_count": 4,
   "id": "9d6fda9e",
   "metadata": {},
   "outputs": [
    {
     "data": {
      "text/plain": [
       "TaskResult(messages=[TextMessage(id='957fe69c-ba1f-4e47-9d3c-a7c28d2702cd', source='Assistant', models_usage=RequestUsage(prompt_tokens=81, completion_tokens=9), metadata={}, created_at=datetime.datetime(2025, 7, 19, 2, 57, 12, 965505, tzinfo=datetime.timezone.utc), content='The capital of France is Paris.', type='TextMessage')], stop_reason=None)"
      ]
     },
     "execution_count": 4,
     "metadata": {},
     "output_type": "execute_result"
    }
   ],
   "source": [
    "await agent.run()\n",
    "#This will return "
   ]
  },
  {
   "cell_type": "code",
   "execution_count": 5,
   "id": "c880df49",
   "metadata": {},
   "outputs": [
    {
     "name": "stdout",
     "output_type": "stream",
     "text": [
      "---------- TextMessage (user) ----------\n",
      "Find information on AutoGen\n",
      "---------- ToolCallRequestEvent (Assistant) ----------\n",
      "[FunctionCall(id='call_SSaqgMCzIHHoWak50UTbbe6e', arguments='{\"query\":\"AutoGen\"}', name='web_search')]\n",
      "[Prompt tokens: 102, Completion tokens: 16]\n",
      "---------- ToolCallExecutionEvent (Assistant) ----------\n",
      "[FunctionExecutionResult(content='AutoGen is a programming framework for building multi-agent applications.', name='web_search', call_id='call_SSaqgMCzIHHoWak50UTbbe6e', is_error=False)]\n",
      "---------- ToolCallSummaryMessage (Assistant) ----------\n",
      "AutoGen is a programming framework for building multi-agent applications.\n",
      "---------- Summary ----------\n",
      "Number of messages: 4\n",
      "Finish reason: None\n",
      "Total prompt tokens: 102\n",
      "Total completion tokens: 16\n",
      "Duration: 1.79 seconds\n"
     ]
    },
    {
     "data": {
      "text/plain": [
       "TaskResult(messages=[TextMessage(id='7a219ef8-eba8-4a80-a8e7-7cd378011c3d', source='user', models_usage=None, metadata={}, created_at=datetime.datetime(2025, 7, 19, 2, 57, 22, 988122, tzinfo=datetime.timezone.utc), content='Find information on AutoGen', type='TextMessage'), ToolCallRequestEvent(id='d0442c64-4a83-434d-be2f-d6114019655f', source='Assistant', models_usage=RequestUsage(prompt_tokens=102, completion_tokens=16), metadata={}, created_at=datetime.datetime(2025, 7, 19, 2, 57, 24, 771467, tzinfo=datetime.timezone.utc), content=[FunctionCall(id='call_SSaqgMCzIHHoWak50UTbbe6e', arguments='{\"query\":\"AutoGen\"}', name='web_search')], type='ToolCallRequestEvent'), ToolCallExecutionEvent(id='e399b621-f83c-480f-bf86-31a9bc4b4efb', source='Assistant', models_usage=None, metadata={}, created_at=datetime.datetime(2025, 7, 19, 2, 57, 24, 776730, tzinfo=datetime.timezone.utc), content=[FunctionExecutionResult(content='AutoGen is a programming framework for building multi-agent applications.', name='web_search', call_id='call_SSaqgMCzIHHoWak50UTbbe6e', is_error=False)], type='ToolCallExecutionEvent'), ToolCallSummaryMessage(id='095defe3-b563-4a8d-947d-10b3744a21b2', source='Assistant', models_usage=None, metadata={}, created_at=datetime.datetime(2025, 7, 19, 2, 57, 24, 778807, tzinfo=datetime.timezone.utc), content='AutoGen is a programming framework for building multi-agent applications.', type='ToolCallSummaryMessage', tool_calls=[FunctionCall(id='call_SSaqgMCzIHHoWak50UTbbe6e', arguments='{\"query\":\"AutoGen\"}', name='web_search')], results=[FunctionExecutionResult(content='AutoGen is a programming framework for building multi-agent applications.', name='web_search', call_id='call_SSaqgMCzIHHoWak50UTbbe6e', is_error=False)])], stop_reason=None)"
      ]
     },
     "execution_count": 5,
     "metadata": {},
     "output_type": "execute_result"
    }
   ],
   "source": [
    "await Console(\n",
    "        agent.run_stream(task=\"Find information on AutoGen\"),\n",
    "        output_stats=True,  # Enable stats printing.\n",
    "    )"
   ]
  }
 ],
 "metadata": {
  "kernelspec": {
   "display_name": ".venv",
   "language": "python",
   "name": "python3"
  },
  "language_info": {
   "codemirror_mode": {
    "name": "ipython",
    "version": 3
   },
   "file_extension": ".py",
   "mimetype": "text/x-python",
   "name": "python",
   "nbconvert_exporter": "python",
   "pygments_lexer": "ipython3",
   "version": "3.13.2"
  }
 },
 "nbformat": 4,
 "nbformat_minor": 5
}
