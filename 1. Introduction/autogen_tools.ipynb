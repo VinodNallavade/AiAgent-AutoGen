{
 "cells": [
  {
   "cell_type": "markdown",
   "id": "c8d0e4b1",
   "metadata": {},
   "source": [
    "#### There are 3 type of tools\n",
    "\n",
    "- Custom Functions\n",
    "- Built-in \n",
    "- Third Party (ex: langchain tools)"
   ]
  },
  {
   "cell_type": "code",
   "execution_count": null,
   "id": "1549a73a",
   "metadata": {},
   "outputs": [],
   "source": []
  }
 ],
 "metadata": {
  "language_info": {
   "name": "python"
  }
 },
 "nbformat": 4,
 "nbformat_minor": 5
}
