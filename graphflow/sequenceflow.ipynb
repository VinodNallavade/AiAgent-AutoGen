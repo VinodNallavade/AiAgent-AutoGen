{
 "cells": [
  {
   "cell_type": "code",
   "execution_count": 3,
   "id": "ccaee4db",
   "metadata": {},
   "outputs": [
    {
     "name": "stdout",
     "output_type": "stream",
     "text": [
      "id='d749cdae-ded1-4743-9fbb-e68490257f74' source='user' models_usage=None metadata={} created_at=datetime.datetime(2025, 7, 19, 4, 47, 29, 976810, tzinfo=datetime.timezone.utc) content='Write a short paragraph about climate change.' type='TextMessage'\n",
      "id='d367088c-f3dd-4030-84a8-7bd3ddcebd6e' source='writer' models_usage=RequestUsage(prompt_tokens=28, completion_tokens=133) metadata={} created_at=datetime.datetime(2025, 7, 19, 4, 47, 46, 582326, tzinfo=datetime.timezone.utc) content='Climate change is a pressing global challenge characterized by long-term alterations in temperature, precipitation patterns, and extreme weather events, largely driven by human activities such as burning fossil fuels, deforestation, and industrial processes. The increase in greenhouse gas emissions has led to rising global temperatures, melting ice caps, and rising sea levels, threatening ecosystems and human livelihoods. As communities around the world grapple with its impacts, urgent action is needed to reduce carbon emissions, transition to renewable energy sources, and implement sustainable practices to mitigate further damage and adapt to changing conditions. Addressing climate change requires a collective effort, emphasizing the urgency of international cooperation and local initiatives to create a sustainable future.' type='TextMessage'\n",
      "id='71da80f7-ba5f-4b89-bd4e-9af7f43e4ef3' source='reviewer' models_usage=RequestUsage(prompt_tokens=165, completion_tokens=274) metadata={} created_at=datetime.datetime(2025, 7, 19, 4, 47, 49, 308532, tzinfo=datetime.timezone.utc) content='Climate change is a critical global crisis marked by long-term shifts in temperature, precipitation patterns, and extreme weather events. These changes are predominantly driven by human activities, including the burning of fossil fuels, deforestation, and various industrial processes. The result has been a significant increase in greenhouse gas emissions, leading to rising global temperatures, melting ice caps, and elevated sea levels, which pose severe threats to ecosystems and human livelihoods alike. As communities worldwide contend with its far-reaching impacts, immediate and concerted action is essential to reduce carbon emissions, transition to renewable energy sources, and adopt sustainable practices that can mitigate further harm and facilitate adaptation to evolving conditions. Addressing climate change necessitates a united effort, highlighting the importance of international cooperation and grassroots initiatives to foster a sustainable future for generations to come. \\n\\n**Suggested Improvements:**\\n1. **Streamline Language:** Use clearer and more concise phrases to enhance readability.\\n2. **Add a Call to Action:** Incorporate a specific call to action to inspire readers to engage with the issue.\\n3. **Integrate Recent Examples:** Include relevant, up-to-date examples or statistics to illustrate the urgency and impact of climate change, grounding the discussion in present-day context.\\n4. **Strengthen the Conclusion:** Emphasize the importance of individual and community roles in combating climate change to create a more personal connection with the reader.' type='TextMessage'\n",
      "id='718d10b2-a196-4001-b3d3-8de02fe7f655' source='DiGraphStopAgent' models_usage=None metadata={} created_at=datetime.datetime(2025, 7, 19, 4, 47, 49, 310756, tzinfo=datetime.timezone.utc) content='Digraph execution is complete' type='StopMessage'\n",
      "messages=[TextMessage(id='d749cdae-ded1-4743-9fbb-e68490257f74', source='user', models_usage=None, metadata={}, created_at=datetime.datetime(2025, 7, 19, 4, 47, 29, 976810, tzinfo=datetime.timezone.utc), content='Write a short paragraph about climate change.', type='TextMessage'), TextMessage(id='d367088c-f3dd-4030-84a8-7bd3ddcebd6e', source='writer', models_usage=RequestUsage(prompt_tokens=28, completion_tokens=133), metadata={}, created_at=datetime.datetime(2025, 7, 19, 4, 47, 46, 582326, tzinfo=datetime.timezone.utc), content='Climate change is a pressing global challenge characterized by long-term alterations in temperature, precipitation patterns, and extreme weather events, largely driven by human activities such as burning fossil fuels, deforestation, and industrial processes. The increase in greenhouse gas emissions has led to rising global temperatures, melting ice caps, and rising sea levels, threatening ecosystems and human livelihoods. As communities around the world grapple with its impacts, urgent action is needed to reduce carbon emissions, transition to renewable energy sources, and implement sustainable practices to mitigate further damage and adapt to changing conditions. Addressing climate change requires a collective effort, emphasizing the urgency of international cooperation and local initiatives to create a sustainable future.', type='TextMessage'), TextMessage(id='71da80f7-ba5f-4b89-bd4e-9af7f43e4ef3', source='reviewer', models_usage=RequestUsage(prompt_tokens=165, completion_tokens=274), metadata={}, created_at=datetime.datetime(2025, 7, 19, 4, 47, 49, 308532, tzinfo=datetime.timezone.utc), content='Climate change is a critical global crisis marked by long-term shifts in temperature, precipitation patterns, and extreme weather events. These changes are predominantly driven by human activities, including the burning of fossil fuels, deforestation, and various industrial processes. The result has been a significant increase in greenhouse gas emissions, leading to rising global temperatures, melting ice caps, and elevated sea levels, which pose severe threats to ecosystems and human livelihoods alike. As communities worldwide contend with its far-reaching impacts, immediate and concerted action is essential to reduce carbon emissions, transition to renewable energy sources, and adopt sustainable practices that can mitigate further harm and facilitate adaptation to evolving conditions. Addressing climate change necessitates a united effort, highlighting the importance of international cooperation and grassroots initiatives to foster a sustainable future for generations to come. \\n\\n**Suggested Improvements:**\\n1. **Streamline Language:** Use clearer and more concise phrases to enhance readability.\\n2. **Add a Call to Action:** Incorporate a specific call to action to inspire readers to engage with the issue.\\n3. **Integrate Recent Examples:** Include relevant, up-to-date examples or statistics to illustrate the urgency and impact of climate change, grounding the discussion in present-day context.\\n4. **Strengthen the Conclusion:** Emphasize the importance of individual and community roles in combating climate change to create a more personal connection with the reader.', type='TextMessage'), StopMessage(id='718d10b2-a196-4001-b3d3-8de02fe7f655', source='DiGraphStopAgent', models_usage=None, metadata={}, created_at=datetime.datetime(2025, 7, 19, 4, 47, 49, 310756, tzinfo=datetime.timezone.utc), content='Digraph execution is complete', type='StopMessage')] stop_reason='Stop message received'\n"
     ]
    }
   ],
   "source": [
    "from autogen_agentchat.agents import AssistantAgent\n",
    "from autogen_agentchat.teams import DiGraphBuilder, GraphFlow\n",
    "from azure.identity import DefaultAzureCredential, get_bearer_token_provider\n",
    "from autogen_ext.models.openai import AzureOpenAIChatCompletionClient\n",
    "\n",
    "\n",
    "# Create the token provider\n",
    "token_provider = get_bearer_token_provider(\n",
    "    DefaultAzureCredential(),\n",
    "    \"https://cognitiveservices.azure.com/.default\",\n",
    ")\n",
    "\n",
    "model_client = AzureOpenAIChatCompletionClient(\n",
    "    azure_deployment=\"gpt-4o-mini\",\n",
    "    model=\"gpt-4o-mini\",\n",
    "    api_version=\"2024-08-01-preview\",\n",
    "    azure_endpoint=\"https://azopenai-langchain.openai.azure.com/\",\n",
    "    azure_ad_token_provider=token_provider,  # Optional if you choose key-based authentication.\n",
    "    # api_key=\"sk-...\", # For key-based authentication.\n",
    ")\n",
    "\n",
    "\n",
    "# Create the writer agent\n",
    "writer = AssistantAgent(\"writer\", model_client=model_client, system_message=\"Draft a short paragraph on climate change.\")\n",
    "\n",
    "# Create the reviewer agent\n",
    "reviewer = AssistantAgent(\"reviewer\", model_client=model_client, system_message=\"Review the draft and suggest improvements.\")\n",
    "\n",
    "# Build the graph\n",
    "builder = DiGraphBuilder()\n",
    "builder.add_node(writer).add_node(reviewer)\n",
    "builder.add_edge(writer, reviewer)\n",
    "\n",
    "# Build and validate the graph\n",
    "graph = builder.build()\n",
    "\n",
    "# Create the flow\n",
    "flow = GraphFlow([writer, reviewer], graph=graph)\n",
    "\n",
    "\n",
    "# Use `asyncio.run(...)` and wrap the below in a async function when running in a script.\n",
    "stream = flow.run_stream(task=\"Write a short paragraph about climate change.\")\n",
    "async for event in stream:  # type: ignore\n",
    "    print(event)\n",
    "# Use Console(flow.run_stream(...)) for better formatting in console.\n",
    "\n"
   ]
  }
 ],
 "metadata": {
  "kernelspec": {
   "display_name": ".venv",
   "language": "python",
   "name": "python3"
  },
  "language_info": {
   "codemirror_mode": {
    "name": "ipython",
    "version": 3
   },
   "file_extension": ".py",
   "mimetype": "text/x-python",
   "name": "python",
   "nbconvert_exporter": "python",
   "pygments_lexer": "ipython3",
   "version": "3.13.2"
  }
 },
 "nbformat": 4,
 "nbformat_minor": 5
}
